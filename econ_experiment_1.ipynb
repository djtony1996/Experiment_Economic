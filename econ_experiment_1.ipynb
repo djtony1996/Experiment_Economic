{
 "cells": [
  {
   "cell_type": "code",
   "execution_count": 1,
   "id": "8db62de4-d779-450e-b744-795d83f902e7",
   "metadata": {},
   "outputs": [],
   "source": [
    "import pandas as pd\n",
    "import numpy  as np\n",
    "from openai import OpenAI\n",
    "import time"
   ]
  },
  {
   "cell_type": "code",
   "execution_count": 2,
   "id": "b39cd86d-c47a-4a43-9a6b-f78e14785943",
   "metadata": {},
   "outputs": [],
   "source": [
    "client = OpenAI(\n",
    "    base_url='https://47v4us7kyypinfb5lcligtc3x40ygqbs.lambda-url.us-east-1.on.aws/v1/',\n",
    "    api_key='a0BIj000001UF1bMAG'\n",
    ")\n",
    "\n",
    "\n",
    "def summarise_text(text):\n",
    "    completion = client.chat.completions.create(\n",
    "        model=\"gpt-4o\",\n",
    "        messages=[\n",
    "            {\"role\": \"user\", \"content\": f\"The following texts summarise the reponses. Each response is delimited by \\n. Can you briefly summarise some common key points in all the responses (use bullet points and each point is explained within 20 words)? The texts are shown below:\\n\\n{text}\"}\n",
    "        ]\n",
    "    )\n",
    "\n",
    "    # Correctly access the message content from the response\n",
    "    message_content = completion.choices[0].message.content.strip().lower()\n",
    "    \n",
    "    return message_content\n"
   ]
  },
  {
   "cell_type": "code",
   "execution_count": 3,
   "id": "8a08280b-7305-4f65-aa2b-fa314623ef86",
   "metadata": {},
   "outputs": [],
   "source": [
    "# read the excel file\n",
    "df = pd.read_excel('241124_survey.xlsx')"
   ]
  },
  {
   "cell_type": "code",
   "execution_count": 4,
   "id": "d5d2a2c3-8a82-49ea-8dc4-62bf9f708666",
   "metadata": {},
   "outputs": [
    {
     "name": "stdout",
     "output_type": "stream",
     "text": [
      "   ID  sessionID  p_label_num     chosen_feedback       vote_feedback  \\\n",
      "0   1          1            1  Timebased feedback  Timebased feedback   \n",
      "1   2          1            2  Timebased feedback  Timebased feedback   \n",
      "2   3          1            3  Timebased feedback  Timebased feedback   \n",
      "3   4          1            4  Timebased feedback  Timebased feedback   \n",
      "4   5          1            5  Timebased feedback  Timebased feedback   \n",
      "\n",
      "                               vote_feedback_explain         vote_change  \\\n",
      "0  it was clearer how many tokens members contrib...  Timebased feedback   \n",
      "1  It's clear to show the amount of our team's co...  Timebased feedback   \n",
      "2  I could gather a better understanding of what ...  Timebased feedback   \n",
      "3  Option 1 is much clearer regarding the contrib...  Timebased feedback   \n",
      "4  because I could decide what amount of point i ...  Timebased feedback   \n",
      "\n",
      "                                 vote_change_explain  \n",
      "0            it was clearer to see the team this way  \n",
      "1  I want to know other's contribution first and ...  \n",
      "2  I would still prefer to know what the others a...  \n",
      "3                  Similar to the above explanation.  \n",
      "4  i would stick to this option as i mentioned th...  \n"
     ]
    }
   ],
   "source": [
    "# print the first few rows of the table\n",
    "print(df.head())"
   ]
  },
  {
   "cell_type": "code",
   "execution_count": 5,
   "id": "6af797ea-5b46-4dec-a739-148403910fca",
   "metadata": {},
   "outputs": [
    {
     "name": "stdout",
     "output_type": "stream",
     "text": [
      "      ID  sessionID  p_label_num     chosen_feedback vote_feedback  \\\n",
      "222  274         11            4  Milestone feedback  Not remember   \n",
      "\n",
      "    vote_feedback_explain vote_change vote_change_explain  \n",
      "222                   NaN           .                 NaN  \n"
     ]
    }
   ],
   "source": [
    "check_D_E = df['chosen_feedback'] == df['vote_feedback']\n",
    "print(df[~check_D_E])"
   ]
  },
  {
   "cell_type": "markdown",
   "id": "c27613c0-0d0e-4bc0-b4d9-85ee93d0fadd",
   "metadata": {},
   "source": [
    "We know that:\n",
    "1. there is one participant who did not remember the type of feedback. The information is shown above\n",
    "2. all the remaining participants remembered their choice correctly."
   ]
  },
  {
   "cell_type": "code",
   "execution_count": 6,
   "id": "08a39ef6-5ab5-4103-a7fc-0124f0d75af8",
   "metadata": {},
   "outputs": [
    {
     "name": "stdout",
     "output_type": "stream",
     "text": [
      "The number of participants is 267\n"
     ]
    }
   ],
   "source": [
    "number_of_participants = df.shape[0]\n",
    "print(f\"The number of participants is {number_of_participants}\")"
   ]
  },
  {
   "cell_type": "code",
   "execution_count": 7,
   "id": "deefaf97-036d-4e99-8927-8aa9c0de2e10",
   "metadata": {},
   "outputs": [
    {
     "name": "stdout",
     "output_type": "stream",
     "text": [
      "The number of participants who chose 'Timebased feedback' is 199\n"
     ]
    }
   ],
   "source": [
    "number_of_timebased = df['chosen_feedback'].value_counts()['Timebased feedback']\n",
    "print(f\"The number of participants who chose 'Timebased feedback' is {number_of_timebased}\")"
   ]
  },
  {
   "cell_type": "code",
   "execution_count": 8,
   "id": "7216de03-c248-4c83-b227-f7184f3bdb11",
   "metadata": {},
   "outputs": [
    {
     "name": "stdout",
     "output_type": "stream",
     "text": [
      "Some key reasons of participants choosing timebased feedback are: \n",
      "\n",
      " the common key points across the responses are:\n",
      "\n",
      "- **clarity of contributions**: participants value seeing the exact token or effort units contributed by everyone for informed decision-making.\n",
      "\n",
      "- **decision making**: the detailed contribution information helps participants make strategic decisions on their own contributions.\n",
      "\n",
      "- **trust and cooperation**: transparency in contributions affects trust levels and encourages or discourages cooperation among team members.\n",
      "\n",
      "- **real-time information**: having up-to-date information on contributions facilitates timely decision-making adjustments.\n",
      "\n",
      "- **risk management**: exact contribution data allows participants to better assess risks and optimize their strategies for maximizing gains.\n",
      "\n",
      "- **preference for transparency**: detailed and transparent contribution feedback is preferred to vague milestones for clear strategizing.\n"
     ]
    }
   ],
   "source": [
    "df_timebased = df[(df['chosen_feedback'] == 'Timebased feedback')]\n",
    "vote_feedback_explain_timebased = '\\n'.join(df_timebased['vote_feedback_explain'].astype(str))\n",
    "print(f\"Some key reasons of participants choosing timebased feedback are: \\n\\n {summarise_text(vote_feedback_explain_timebased)}\")"
   ]
  },
  {
   "cell_type": "code",
   "execution_count": 9,
   "id": "3ab842c1-3279-4eb9-abb9-16b360927b1d",
   "metadata": {},
   "outputs": [
    {
     "name": "stdout",
     "output_type": "stream",
     "text": [
      "The number of participants who chose 'Milestone feedback' is 68\n"
     ]
    }
   ],
   "source": [
    "number_of_milestone = df['chosen_feedback'].value_counts()['Milestone feedback']\n",
    "print(f\"The number of participants who chose 'Milestone feedback' is {number_of_milestone}\")"
   ]
  },
  {
   "cell_type": "code",
   "execution_count": 10,
   "id": "8f200db7-aa5d-4e46-8e86-bf8262f70d57",
   "metadata": {},
   "outputs": [
    {
     "name": "stdout",
     "output_type": "stream",
     "text": [
      "Some key reasons of participants choosing milestone feedback are: \n",
      "\n",
      " the responses share several common key points:\n",
      "\n",
      "- **preference for ambiguity**: many participants preferred not knowing exact contributions, enabling strategic decisions and profit maximization.\n",
      "  \n",
      "- **reduced pressure**: vague information lowered pressure to contribute more than peers.\n",
      "  \n",
      "- **influence on strategy**: concealing contributions allows participants to keep strategies private.\n",
      "  \n",
      "- **encouragement of contributions**: milestone-based feedback motivated team contributions without exact contribution disclosure.\n",
      "  \n",
      "- **manipulation of perception**: participants believed vagueness might convince others to contribute more.\n",
      "  \n",
      "- **risk and profit maximization**: uncertainty was leveraged to increase personal gains by exploiting potential team behavior.\n",
      "  \n",
      "- **reduced accountability**: ambiguity diminished personal accountability and judgment from others.\n"
     ]
    }
   ],
   "source": [
    "df_milestone = df[(df['chosen_feedback'] == 'Milestone feedback')]\n",
    "vote_feedback_explain_milestone = '\\n'.join(df_milestone['vote_feedback_explain'].astype(str))\n",
    "print(f\"Some key reasons of participants choosing milestone feedback are: \\n\\n {summarise_text(vote_feedback_explain_milestone)}\")"
   ]
  },
  {
   "cell_type": "code",
   "execution_count": 11,
   "id": "acff1df2-f914-4ea4-8d50-959bc5c1afac",
   "metadata": {
    "scrolled": true
   },
   "outputs": [
    {
     "name": "stdout",
     "output_type": "stream",
     "text": [
      "The number of participants who chose 'Timebased feedback' originally and stayed in 'Timebased feedback' is 182\n",
      "Some key reasons of participants choosing timebased feedback and staying the same are: \n",
      "\n",
      " based on the responses, here are some common key points:\n",
      "\n",
      "- **desire for transparency**: respondents valued clear visibility into team members' contributions for better decision-making.\n",
      "\n",
      "- **preference for detailed information**: many preferred having exact numbers to get a full understanding of group dynamics.\n",
      "\n",
      "- **better decision-making**: detailed feedback was seen as helpful in making more informed and rational choices.\n",
      "\n",
      "- **influence of others' contributions**: understanding other participants' efforts allowed for strategy adjustments and cooperation.\n",
      "\n",
      "- **avoiding uncertainty**: respondents preferred clear and precise data to reduce uncertainty and feel more secure in their decisions.\n",
      "\n",
      "- **team dynamics**: knowledge of exact contributions was important to gauge teamwork and willingness to collaborate.\n",
      "\n",
      "- **adaptation to group needs**: respondents adjusted their strategies based on detailed feedback, aiming to maximize group benefit.\n"
     ]
    }
   ],
   "source": [
    "timebased_1 = df['chosen_feedback'] == 'Timebased feedback'\n",
    "df_temp = df[timebased_1]\n",
    "number_of_timebased_timebased = df_temp['vote_change'].value_counts()['Timebased feedback']\n",
    "print(f\"The number of participants who chose 'Timebased feedback' originally and stayed in 'Timebased feedback' is {number_of_timebased_timebased}\")\n",
    "df_timebased_timebased = df[(df['chosen_feedback'] == 'Timebased feedback') & (df['vote_change'] == 'Timebased feedback')]\n",
    "vote_change_explain_timebased_timebased = '\\n'.join(df_timebased_timebased['vote_change_explain'].astype(str))\n",
    "print(f\"Some key reasons of participants choosing timebased feedback and staying the same are: \\n\\n {summarise_text(vote_change_explain_timebased_timebased)}\")"
   ]
  },
  {
   "cell_type": "code",
   "execution_count": 12,
   "id": "347055d7-d41d-4fbf-9b49-b28561f65f15",
   "metadata": {
    "scrolled": true
   },
   "outputs": [
    {
     "name": "stdout",
     "output_type": "stream",
     "text": [
      "The number of participants who chose 'Timebased feedback' originally and changed to 'Milestone feedback' is 17\n",
      "Some key reasons of participants choosing timebased feedback but changing to milestone feedback are: \n",
      "\n",
      " - **team contribution motivation:** awareness of collective goals can inspire team members to contribute more.\n",
      "- **transparency vs. ambiguity:** ambiguity in feedback can motivate equal contributions but might also enable manipulation.\n",
      "- **experimenting feedback options:** participants expressed interest in trying different feedback methods to observe changes in team dynamics.\n",
      "- **human behavior contrasts with ai:** participants noted differences between human and ai motivations.\n",
      "- **milestone tracking:** participants considered milestone visibility as a factor affecting contribution levels.\n",
      "- **self-reflection on contribution levels:** some participants admitted to being selfish or reconsidered their contribution levels if repeated.\n"
     ]
    }
   ],
   "source": [
    "number_of_timebased_milestone = df_temp['vote_change'].value_counts()['Milestone feedback']\n",
    "print(f\"The number of participants who chose 'Timebased feedback' originally and changed to 'Milestone feedback' is {number_of_timebased_milestone}\")\n",
    "df_timebased_milestone = df[(df['chosen_feedback'] == 'Timebased feedback') & (df['vote_change'] == 'Milestone feedback')]\n",
    "vote_change_explain_timebased_milestone = '\\n'.join(df_timebased_milestone['vote_change_explain'].astype(str))\n",
    "print(f\"Some key reasons of participants choosing timebased feedback but changing to milestone feedback are: \\n\\n {summarise_text(vote_change_explain_timebased_milestone)}\")"
   ]
  },
  {
   "cell_type": "code",
   "execution_count": 13,
   "id": "3654a4f1-19d5-4594-87ae-0e49e46806c2",
   "metadata": {
    "scrolled": true
   },
   "outputs": [
    {
     "name": "stdout",
     "output_type": "stream",
     "text": [
      "The number of participants who chose 'Milestone feedback' originally and stayed in 'Milestone feedback' is 54\n",
      "Some key reasons of participants choosing milestone feedback and staying the same are: \n",
      "\n",
      " here are some common key points from the responses:\n",
      "\n",
      "- **preference for milestones**: many prefer milestones over exact numbers for clarity and easier decision-making.\n",
      "  \n",
      "- **strategic contribution**: individuals are inclined to contribute less when exact totals are unknown, optimizing personal benefits.\n",
      "  \n",
      "- **trust and risk management**: milestones enhance trust and strategic risk-taking among team members.\n",
      "  \n",
      "- **prisoner's dilemma reference**: decisions influenced by assumptions about others' self-serving actions.\n",
      "  \n",
      "- **transparency vs. curiosity**: less transparency fosters curiosity and possibly greater effort to meet milestones.\n",
      "  \n",
      "- **frustration with selfishness**: some cite teammates being selfish as a reason for selecting options that obscure personal contributions.\n",
      "  \n",
      "- **consistency in strategy**: many maintain consistent strategies throughout, aligning with initial choices and thoughts.\n"
     ]
    }
   ],
   "source": [
    "milestone_1 = df['chosen_feedback'] == 'Milestone feedback'\n",
    "df_temp = df[milestone_1]\n",
    "number_of_milestone_milestone = df_temp['vote_change'].value_counts()['Milestone feedback']\n",
    "print(f\"The number of participants who chose 'Milestone feedback' originally and stayed in 'Milestone feedback' is {number_of_milestone_milestone}\")\n",
    "df_milestone_milestone = df[(df['chosen_feedback'] == 'Milestone feedback') & (df['vote_change'] == 'Milestone feedback')]\n",
    "vote_change_explain_milestone_milestone = '\\n'.join(df_milestone_milestone['vote_change_explain'].astype(str))\n",
    "print(f\"Some key reasons of participants choosing milestone feedback and staying the same are: \\n\\n {summarise_text(vote_change_explain_milestone_milestone)}\")"
   ]
  },
  {
   "cell_type": "code",
   "execution_count": 14,
   "id": "7c6f5565-13d2-49c9-92e3-9f40d38c6a99",
   "metadata": {
    "scrolled": true
   },
   "outputs": [
    {
     "name": "stdout",
     "output_type": "stream",
     "text": [
      "The number of participants who chose 'Milestone feedback' originally and changed to 'Timebased feedback' is 13\n",
      "Some key reasons of participants choosing milestone feedback but changing to timebased feedback are: \n",
      "\n",
      " - **desire for transparency**: many responses express a need for greater transparency in contributions to prevent imbalance.\n",
      "- **mistrust and frustration**: contributors feel frustrated and hurt by selfish behavior when contributions aren't fairly distributed.\n",
      "- **preference for option 2**: some respondents favor option 2 for its directness and less susceptibility to selfish actions.\n",
      "- **impact on contribution decisions**: knowing team contributions would influence individual contribution decisions and potentially increase fairness.\n",
      "- **calculating earnings**: participants want better methods to estimate their earnings based on contributions.\n"
     ]
    }
   ],
   "source": [
    "number_of_milestone_timebased = df_temp['vote_change'].value_counts()['Timebased feedback']\n",
    "print(f\"The number of participants who chose 'Milestone feedback' originally and changed to 'Timebased feedback' is {number_of_milestone_timebased}\")\n",
    "df_milestone_timebased = df[(df['chosen_feedback'] == 'Milestone feedback') & (df['vote_change'] == 'Timebased feedback')]\n",
    "vote_change_explain_milestone_timebased = '\\n'.join(df_milestone_timebased['vote_change_explain'].astype(str))\n",
    "print(f\"Some key reasons of participants choosing milestone feedback but changing to timebased feedback are: \\n\\n {summarise_text(vote_change_explain_milestone_timebased)}\")"
   ]
  },
  {
   "cell_type": "markdown",
   "id": "0e96cb89-6f9f-47b0-b5c2-5e4aa429c681",
   "metadata": {},
   "source": [
    "Remember, there is one participant who chose 'Milestone feedback' but forgot the choice."
   ]
  }
 ],
 "metadata": {
  "kernelspec": {
   "display_name": "Python 3 (ipykernel)",
   "language": "python",
   "name": "python3"
  },
  "language_info": {
   "codemirror_mode": {
    "name": "ipython",
    "version": 3
   },
   "file_extension": ".py",
   "mimetype": "text/x-python",
   "name": "python",
   "nbconvert_exporter": "python",
   "pygments_lexer": "ipython3",
   "version": "3.11.10"
  }
 },
 "nbformat": 4,
 "nbformat_minor": 5
}
