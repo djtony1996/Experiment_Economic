{
 "cells": [
  {
   "cell_type": "markdown",
   "id": "86967ffa-2112-47a8-a130-8e6b20b274b6",
   "metadata": {},
   "source": [
    "The purpose of the code is to test the convergence of text summary using OpenAI. \n",
    "The reason for this convergence text is to make sure certain responses (not random responses) are generated using the same code and model.\n",
    "To do this, we ask to summarise the key reasons of participants choosing timebased feedback five times. \n",
    "Then, we see those five responses contain the same information (allow some error). \n",
    "Then, we repeat the same procedures to participants choosing milestone feedback. "
   ]
  },
  {
   "cell_type": "code",
   "execution_count": 1,
   "id": "5a4970c4-dd1f-419c-98c2-301d16cc067e",
   "metadata": {},
   "outputs": [],
   "source": [
    "import pandas as pd\n",
    "import numpy  as np\n",
    "from openai import OpenAI\n",
    "import time"
   ]
  },
  {
   "cell_type": "code",
   "execution_count": 2,
   "id": "f46a3a8f-d8c1-4e86-af5b-e784731ad6db",
   "metadata": {},
   "outputs": [],
   "source": [
    "client = OpenAI(\n",
    "    base_url='https://47v4us7kyypinfb5lcligtc3x40ygqbs.lambda-url.us-east-1.on.aws/v1/',\n",
    "    api_key='a0BIj000001UF1bMAG'\n",
    ")\n",
    "\n",
    "\n",
    "def summarise_text(text):\n",
    "    completion = client.chat.completions.create(\n",
    "        model=\"gpt-4o\",\n",
    "        messages=[\n",
    "            {\"role\": \"user\", \"content\": f\"\"\"The following texts summarise the responses from the participants in an economic experiment. \n",
    "            ... Each response is delimited by \\n. \n",
    "            ... Can you briefly summarise upto five key points in all the responses?\n",
    "            ... Use bullet points and each point is explained within 15 words.\n",
    "            ... The texts are shown below:\\n\\n{text}\"\"\"}\n",
    "        ]\n",
    "    )\n",
    "\n",
    "    # Correctly access the message content from the response\n",
    "    message_content = completion.choices[0].message.content.strip().lower()\n",
    "\n",
    "    return message_content"
   ]
  },
  {
   "cell_type": "markdown",
   "id": "2fb9ab76-251d-4171-9086-7523c9109c30",
   "metadata": {},
   "source": [
    "-------------------------------------------------------------------------------------------------------------------------------------------"
   ]
  },
  {
   "cell_type": "code",
   "execution_count": 3,
   "id": "be1e4b83-3e96-44fc-a5f3-2f59b0329ca0",
   "metadata": {},
   "outputs": [
    {
     "name": "stdout",
     "output_type": "stream",
     "text": [
      "it was clearer how many tokens members contributed, it helped to make a more comprehensive decision on how many tokens i will put in compare to my team mate.\n",
      "It's clear to show the amount of our team's contribution.\n",
      "I could gather a better understanding of what the other two were doing, this led to me unfortunately losing trust in them so I did not input my full 30 tokens\n",
      "Option 1 is much clearer regarding the contribution, but Option 2 seems to be not quite clear. \n",
      "because I could decide what amount of point i should pay to the project and what teammates think about it because the more points contributed from others the more money you could get from the project so in option1 I could follow it step by step \n",
      "I can see more clear about my teammate's voting situations\n",
      "I would like to see how others make the decision and i wanted to make decision based on theirs.\n",
      "It was the most straightforward option, and allowed me to get somewehat of an insiht to what my other group members were contributing.\n",
      "It was clearer to see the exact number of tokens contributed so that I could plan out my next decision more accurately.\n",
      "I prefer to know the exact number of the effort units contributed. Gives a clearer idea.\n",
      "There was more information. Also you had the most up to date information.\n",
      "I want to see the progress of each round\n",
      "I can see the total contributions from my team, which would help me to make decision.\n",
      "I wanted to know the exact number of contributions which have been made on each round to make my decision.\n",
      "I would be given more information. This was helpful, as when I saw that nether of my teammates were putting their tokens into the experiment, I stopped putting in mine, therefor saving me money. \n",
      "Value in greater information\n",
      "I wanted to know the approximate actions of my teammates to get a better guage of how much to input. Although I didn't really mind which option as it's not like i can control what other people do\n",
      "Being able to know the exact contributions other team members make would help me make decisions and maximise my tokens.\n",
      "Option 1 had the advantage of knowing if someone contributed an amount no matter how big or small \n",
      "The feedback option 1 can show the specific number of the total contribution, so that I can make decisions more easily.\n",
      "more clearly to see others' options\n",
      "I wanted to base my decisions on the decisions that everyone else made. Ie. if everyone gave nothing, I would also give nothing\n",
      "it is safe for people that being randomly paired\n",
      "from the feedback I was getting i was able to plan on how many units to give in the next round on the basis of what my team mates were giving.\n",
      "as it was clearer to see what my group was deciding\n",
      "It is easier to see what the exact number of the contribution and can assume how many the team member has voted.\n",
      "it shows the contribution clearly rather than milstones\n",
      "I get more information compared to Feedback Option 1. Hence, it was easier for me to make my decisions accordingly.  \n",
      "so that i can make a clear choice, based on clear results of other team members \n",
      "It can help me to make a clear and wise decision to prevent more risk in that part.\n",
      "So everyone could see exactly how many tokens were given which would hopefully push it further to 90 to maximise token reward\n",
      "If there was a sensing of how much the others contributed, I feel that my teammates and I might be motivated to give more or less, depending on the amount contributed. If I had no clue of what my teammates gave on average, I might not contribute much.\n",
      "Real-time and precise progress\n",
      "feedback option 2 provided more clarity on how the other 2 members are performing.\n",
      "I can change my decision according to the feedback 2 more clearly rather than the option 1.\n",
      "Because I can see the exact value we have reached rather than a vague milestone\n",
      "Because is difficult to reach a milestone for me if I do not know my team members. However, option 2 was the best option as there is a set target to obtain a maximum efforts units of 90. \n",
      "It is showing the exact number of how many efforts that my team has contributed, so I can make more exact decisions on how many should I contribute for the next round.\n",
      "Wanted cooperation between team members with clear outcome\n",
      "The reason of choosing feedback option 2 is that this option is clear and I can know the general situation of our team which is better for me to make the decisions for the next steps.\n",
      "i want to know the exact number that my team members have paid\n",
      "It allows me to see a more accurate representation of the thought process of my team members\n",
      "I thought I could make better use out of the information it gave me about my team members compared to Option 1. I guessed that they would both be greedy so we wouldn't reach many milestones anyway and I would rather know the specific amount the other 2 team members contributed each round.\n",
      "It's more clearly to see the overall team contributes.\n",
      "To be able to clearly see how much effort the group invested \n",
      "Feedback Option 2 is much clear about how many efforts we chose to give. Because in Option 1, we might be close to the milestone, but we do not know. And we might assume others being selfish and chose to keep the efforts.\n",
      "Because feedback option 2 allows me to know the extract amount of effort unit that the other team contributed each round.\n",
      "Motivated me to contribute based on the actions of my team members. This ensures equal efforts will be made by each participant.\n",
      "It is more transparent.\n",
      "In real world, using real-time progress will help people to know which position they are and help them accelerate the progress faster. As well, putting real-time and real progress in economic aspect such as investment and savings will assist people in understanding profit and loss more comprehensively \n",
      "I decided for feedback 1, because you could have more details of the number effort units that your team was giving in each round. So, with this average of each round, I took my decisions. I wanted to know if all my team was giving the same effort as me, or they were just thinking in wining more for them, not considering that if we invest all, at the end it was the best result of each member. \n",
      "it is clear to see the expected result of total group performance.\n",
      "Option 1 offered the most information on how my team was operating. Option 2 obfuscated that by involving arbitrary milestones. Also, I guessed I could 'show my hand' better with option 1, and hoped my team would catch on and follow the same strategy. \n",
      "Because I hope to get more points.\n",
      "easier\n",
      "the option 1 can give me a clear message of how many effort units our teams have contributed, therefore it is more helpful for me to make decisions for the next round. \n",
      "It was clearly indicated.\n",
      "Clearer visibility of the team's current effort units\n",
      "It gave me a clearer chance to know what my groupmates were doing every round and allowed me to alter my decisions accordingly.\n",
      "because i can see the progress number more clearly, which helps me better in making my decisions\n",
      "directly knows what pigs are thinking smh\n",
      "more clear intentions\n",
      "Because it gave us a clear number on how many points have we collected. Unlike option 2 we cannot really tell how many points have we collected.\n",
      "fair\n",
      "As it allowed me to know the mean contribution of others in my group, I thought the increased information will help decision making.\n",
      "It was clearer to see the contribution of each team member as opposed to having a milestone.\n",
      "More transparency and clarity, I would be able to calculate my possible earning more precisely.\n",
      "I got more money when I did Option 1 at practice sessio.\n",
      "more information about the contributed total effort\n",
      "Provided a much clearer overview of the collective result of the team member's choices. Additionally, I was operating with a pessimistic mindset that the total contributions will not reach the milestones therefore feedback 2 not being of any use in aiding my decision-making. \n",
      "It would be clearer to see an exact number.\n",
      "It was a more precise, transparent measurement of effort units, with option one, it could sit just below the milestone and it leaves room for hypotheticals.\n",
      "The reason is everybody can get the total number of contribute from other players exactly.\n",
      "More information\n",
      "I am curious about my team members effort their contributed\n",
      "it provides more transparency so i can calculate my next contributions and my possible earning\n",
      "Knowledge is power.\n",
      "I want to know the specific number that our team have, I think the number range is not detailed enough. \n",
      "i wanted to gauge exactly how much other teammates were contributing to adjust my own accordingly\n",
      "More information disclosed.\n",
      "It is clear to see how much efforts the other team members donated, helping me to make a decision for the next round. Also, Option 2 will help the others see how much efforts the whole team donated, making them donate more in the next round.\n",
      "it is clear and does not bring any inconvenience\n",
      "I wanted to see the contribution by the other members of the team clearly.\n",
      "it was more clear and easier to tell how many points each person contributed\n",
      "I want to know the exact number of effort units that other people contributed before making my own decision\n",
      "i could clearly see what actions that my teammates did specifically, as such i could make my own decisions based on that.\n",
      "I prefer knowing correct amount of my team members.\n",
      "i wanted to be able to see what my teammates were contributing more specifically\n",
      "It provided more relevant information for making decisions\n",
      "It's more clear for me to find how many the other people invest\n",
      "It has instant feedback\n",
      "I think it give me more clarity so I can take a guess how many efforts do my teammates contribute.\n",
      "There was no real benefit to option 2, as everything it provided was available in option 1. 1 was more explicit in its presentation of data.\n",
      "After each round, we are able to see the total effort units that are contributed \n",
      "It was made clear\n",
      "It allowed for transparency between team members which would affect my decision to contribute or not contribute.\n",
      "Option 2 had a single point of failure in trust, that if the milestone fails to be reached this or if someone contributes too much, this could lead others to not contribute after round 1. Whereby option 1 provided more glandular data, allowing me to fine tune my contribution to risk ratio much better. My strategy for option 1 was more psychological than game theory in nature, trying to build trust with other participants, before scaling down and pulling the plug depending on cooperation of other actors.\n",
      "It gave me more clarity\n",
      "want to see each person's contribution to make it fair\n",
      "it gave me more information about what my teammates did.\n",
      "much clearer contribution progress by the whole team compared to option2\n",
      "It is more clear.\n",
      "I chose feedback 1 because it enabled me to change my contributions based off of what my teammates contributed for the previous round. If they contributed higher, I would increase my contribution else I would decrease mine. \n",
      "I wanted to know the specific number of points contributed per round.\n",
      "able to see how much the team contributed in each round\n",
      "Because I can choose how many tokens should contributes to the joint project depending other members contributes\n",
      "I want to know the exact amount contributed to the project.\n",
      "it was random\n",
      "it seemed to be a clearer way to understand the feedback.\n",
      "So that I could see the exact amount of effort points put in at each round in the joint project.\n",
      "because I can clear know the actual joint contribution, I can easy make decision\n",
      "i was keen on seeing the actual contibtion\n",
      "i can see the outcomes that everyone did\n",
      "I want to see the exact contribution from others so that I can decide to put my money in or not. option 2 only shows a range. For example, if the total number is 14, I cannot see any contribution in the bar. This will influence my decision making\n",
      "I think the feedback option is much clearer than the second feedback option as it provides me with the exact amount of the total effort units so that I am able to make my decisions based on the total amount already contributed.\n",
      "I think Feedback option 1 is clearer and I can know the certain number of effort units that my team contributes to the joint project in each round. It helps me to make a decision rapidly in the next round.\n",
      "It is much clear when I made the decisions since I know how much effort units other team members contributed.\n",
      "It will easier to find the units that every team member contribute\n",
      "what your effort is what you can get\n",
      "easy to see\n",
      "it gives me a better look at the progress\n",
      "I would get the exact values of our team, which can help make decisions easier, because if we had 29 efforts in total, feedback 2 would not show it. therefore, the decision making in feedback 2 would be a gamble. \n",
      "I think it will be easier to check the results of our group because it shows the exact number. Milestone will make me confuse how large the gap will be to reach the next milestone.\n",
      "I wanted to know how much contributions were made to base my contributions off those amounts.\n",
      "Option 1 provided me with the information about the average contribution made by other two team members.\n",
      "can see the number from others\n",
      "i dont want to guess the exact efforts contributed\n",
      "It offered more accurate data as opposed to milestones.\n",
      "I wanted to know exactly how much was contributed in each round so I could make an informed decision. \n",
      "i  personally dont like uncertainty so option 1 provides exact numbers so it makes much easier for me to understand what points my team member spend, which is helpful for me to make my following decisions.\n",
      "So I can see exactly how much my team members contributed and use that to inform my decisons.\n",
      "transparency is a key factor for good communication in a working group.\n",
      "more straightforward\n",
      " which is a multiple of 5 so I can clearly see people's strategy or thoughts through the feedback\n",
      "it was pretty much clear for the contributions made overall by the team in order to succeed with further rounds.\n",
      "I want to have more clear idea of how much other people in my team invest so that I can make my decision\n",
      "IT WAS CLEAR TO GET OTHERS DEVOTION AFTER EACH ROUND\n",
      "It is more specific and gives more details, which helps me make decisions a lot. \n",
      "no\n",
      "So I could now how much each person was contributing\n",
      "It was because in this option, the total effects counts.\n",
      "I wanted a more accurate understanding of how far away the team was from a milesone and the progress made in each part which wouldn't have been possible from Feedback Option 1.\n",
      "So that I could see if there were any new contributions made and base my future decisions off of that\n",
      "it clearly to understand \n",
      "Able to see clearer what other people chose.\n",
      "It is clearer to know other group members' choices.\n",
      "it is easier to determine the pogress\n",
      "It was easier for me to decide based on how much others were contributing\n",
      "I thought if I was able to see the constant progress made by my group, I would be able to make a more accurate decision of how many tokens to put in depending on the relative effort put in my by group members.\n",
      "I can analysis my team member contribution to the join project. I will always need to contribute less than them so that I can maximises my benefit. Furthermore, if using the Feedback Option 1, as the first milestone only started at 15, it might causes lose confidence in my team members if the milestone is not hit and I will also be hesitated to contribute to the join project. Feedback Option 1 will causes team member losing trust in each other and will not contribute any thing at all for the join proejct. Thus, I weakly preferred Option 2. \n",
      "Know exact amount of contribution of the joint group >> better decision for later rounds\n",
      "This tells how the team is progressing so it will be helpful\n",
      "I can know more about others' opinions and decide my own choices.\n",
      "Feedback option 2 gave us a much clearer idea as to how many effort points were contributed by my teammates, on which I could base my decisions on.\n",
      "i wanted to see others contribution and match mine to them\n",
      "I want to know exactly how much my group was contributing so I can adjust my own contributions based on whether everyone was being selfish or cooperative\n",
      "Because I can now the total contributions exactly.\n",
      "it gives a clear understanding of what is going on\n",
      "I prefere feedback 2 becaue I can see other members participation in the joint project. it help me to decided carefully.\n",
      "cam see each team member's efforts\n",
      "By choosing option2 I can clearly see the contribution of my teammates and of course someone didn't make any contributions at all.\n",
      "It clearly stated the exact amount of contribution from the team to joint project in each round which made me take better decisions.\n",
      "I think know the number of the team contributes to the joint project help me to make wise decisions.\n",
      "because you were more able to accurately see how much your team has contributed instead of guessing like with option one\n",
      "I was to see the exact number of points being contributed and make my decisions based on the average number of points contributed by my teammates. I would refer contributing the same number of points as the average number of points being contributed in the previous round.\n",
      "I want the feedback to be more transparent and accurate.\n",
      "More transparency between the group members so we could understand the progress we were making and inform our decision-making process more effectively.\n",
      "To know exactly how much other people contributed and base my decisions off that\n",
      "it allowed me to make better decisions around how much i wanted to contribute as i could see exactly how much my teammates were contributing\n",
      "I believe that the pros of choosing this includes being able to react appropriately immediately, and there are perhaps no down side to choosing this over Option 2. I also believe that majority will pick this.\n",
      "my preference was a weak preference. however, I chose feedback 1 to see how many units were contributed by my team members in total, in order to have an idea about their strategies.\n",
      "It would be the best to know the exact total amount rather than just when reaching a milestone.\n",
      "It provides more information for me so that I can use my grim trigger strategy if the total contribution does not reach my expected value.\n",
      "Feedback option 1 provided clear details of how the members contributed to each round which allowed me to make an informed decision towards making my own contributions in the next round.\n",
      "I can receive more information in Option 1 than 2\n",
      "It is because we can know the current position\n",
      "I think knowing the process of contribution will definetly change my decision on makeing effort in next round. I have a better map on how my team contribute from opinion 1 than opinion 2.\n",
      "Clearer visualisation of the teammates' investment choices\n",
      "I can track the number precisely and make decisions in the best interest of me. In another word, it is not that risky. \n",
      "Showing the accurate advancement of the team\n",
      "we can know how much we are able to get clearly\n",
      "I can able to see what are the group efforts what how much do I need to contribute in order to get the project done.\n",
      "Just wanted to see progress\n",
      "I choose option 2 because it allows me to weight the risk of investing into the joint project by calculating other's total response.  Basically making sure I wouldn't end up with the short-end of the stick.\n",
      "I don't want risk\n",
      "It was more transparent\n",
      "I want to let others know my decision, I have all in for the first round and anticipated that after other participant saw my intention, they will do the same thing.\n",
      "I prefer to see the exact contributions from the whole team to guide my decision\n",
      "The reason that I voted for option 2 because I can make sure I could know all the progress of the milestone each round. Let's say if at the end all 6 rounds the group contribution is less than 15 for option 1, I couldn't see any progress of the milestone while for option 2, I could adjust my contribution of later rounds base on the contribution of my groupmates in the previous rounds.\n",
      "It seemed more accurate and it was also easy to calculate the contributions of other group members.\n",
      "It was easier to understand what direction my team was going for and in order to re-evaluate my decision making easier.\n",
      "More information means better decision making.\n",
      "I like precision and I am very much a logical thinker and I like to know precisely what I am getting myself into and the exact data of that.\n",
      "Feedback option 2 allows me to assess the behaviour of my team mates. This will allow me to adjust my action accordingly.\n",
      "I would like to know specifically how many effort units have been made to the project so far, instead of only knowing whether we have hit the milestone or not. This is because I do not like ambiguity, and if I need to decide on my contributions, I want to know how much risk I am at clearly. Only knowing the milestone does not give as much as clarity as compared to if I know the specific number.\n",
      "I can see how many effort units my team member have contributed in each round and make the decision based on their.\n",
      "If the most beneficial outcome is determined by cooperation, being able to see and gage the cooperation is essential \n",
      "It is assumed that more detailed information allows for better decision making, which I agree with. Knowing the precise amount of effort units contributed allows me to better understand what kind of decisions are being made by the other members, compared to a milestone gauge that may not increase at all for 2 or more rounds at a time. I would much rather know more to better judge the decisions I will make.\n",
      "because I can easily figure out how much points have been commited to the project\n"
     ]
    }
   ],
   "source": [
    "# read the excel file\n",
    "df = pd.read_excel('241124_survey.xlsx')\n",
    "\n",
    "# print the reasons from participants choosing timebased feedback\n",
    "df_timebased = df[(df['chosen_feedback'] == 'Timebased feedback')]\n",
    "vote_feedback_explain_timebased = '\\n'.join(df_timebased['vote_feedback_explain'].astype(str))\n",
    "print(vote_feedback_explain_timebased)"
   ]
  },
  {
   "cell_type": "markdown",
   "id": "238c97a0-999f-49be-ad4c-bbf877837238",
   "metadata": {},
   "source": [
    "-------------------------------------------------------------------------------------------------------------------------------------------"
   ]
  },
  {
   "cell_type": "markdown",
   "id": "d1e3d568-050e-4d9a-b60d-73fe9bf8979d",
   "metadata": {},
   "source": [
    "Here, we ask the model to summarise the key points five times:"
   ]
  },
  {
   "cell_type": "code",
   "execution_count": 4,
   "id": "bc58caac-bc28-43bc-9845-a9d1cadeece5",
   "metadata": {},
   "outputs": [
    {
     "name": "stdout",
     "output_type": "stream",
     "text": [
      "Some key reasons of participants choosing timebased feedback are: \n",
      "\n",
      " - **transparency in contributions:** participants valued seeing exact token contributions for informed decision-making.\n",
      "- **trust and cooperation:** detailed feedback influenced trust levels and cooperation strategies among team members.\n",
      "- **decision-making clarity:** knowing precise token amounts helped participants adapt strategies based on team actions.\n",
      "- **real-time feedback:** real-time contribution insights allowed more accurate assessments and adjustments.\n",
      "- **option preferences:** majority preferred feedback that disclosed exact contributions over milestone-based options.\n"
     ]
    }
   ],
   "source": [
    "print(f\"Some key reasons of participants choosing timebased feedback are: \\n\\n {summarise_text(vote_feedback_explain_timebased)}\")"
   ]
  },
  {
   "cell_type": "code",
   "execution_count": 5,
   "id": "2ea85b2e-0262-4050-a4d7-cb8aff9abcb2",
   "metadata": {},
   "outputs": [
    {
     "name": "stdout",
     "output_type": "stream",
     "text": [
      "Some key reasons of participants choosing timebased feedback are: \n",
      "\n",
      " - **transparency and clarity:** participants appreciated clear, transparent information on contributions, aiding their decision-making process.\n",
      "- **informed decision-making:** exact contribution data helped participants make better-informed decisions in subsequent rounds.\n",
      "- **trust and strategy:** knowing others' contributions influenced trust and strategy, affecting token input decisions.\n",
      "- **motivation and cooperation:** clear feedback encouraged cooperation or competitive strategies based on peers' actions.\n",
      "- **risk management:** participants valued precise feedback to minimize risk and optimize potential returns.\n"
     ]
    }
   ],
   "source": [
    "print(f\"Some key reasons of participants choosing timebased feedback are: \\n\\n {summarise_text(vote_feedback_explain_timebased)}\")"
   ]
  },
  {
   "cell_type": "code",
   "execution_count": 6,
   "id": "2e8d2ed8-35ca-4d60-80f3-c5885fcedefb",
   "metadata": {},
   "outputs": [
    {
     "name": "stdout",
     "output_type": "stream",
     "text": [
      "Some key reasons of participants choosing timebased feedback are: \n",
      "\n",
      " - participants favored transparency in contributions to make informed decisions.\n",
      "- real-time feedback was valued for assessing team strategies and altering personal contributions.\n",
      "- precise contribution data increased trust and cooperation among team members.\n",
      "- detailed insights helped optimize personal token inputs and minimize risks.\n",
      "- option 1 generally provided clearer and more actionable feedback compared to option 2.\n"
     ]
    }
   ],
   "source": [
    "print(f\"Some key reasons of participants choosing timebased feedback are: \\n\\n {summarise_text(vote_feedback_explain_timebased)}\")"
   ]
  },
  {
   "cell_type": "code",
   "execution_count": 7,
   "id": "25b95e47-85c0-4671-8fba-efb31d96c7b5",
   "metadata": {},
   "outputs": [
    {
     "name": "stdout",
     "output_type": "stream",
     "text": [
      "Some key reasons of participants choosing timebased feedback are: \n",
      "\n",
      " - **transparency in contributions**: participants valued clear visibility of team members' contributions, aiding informed decision-making.\n",
      "- **trust and coordination**: real-time tracking of contributions impacted trust and cooperative strategies, guiding personal investments.\n",
      "- **preference for detailed feedback**: specific numbers over milestone ranges were favored to accurately assess team progress and adjust efforts.\n",
      "- **risk assessment**: detailed information enabled better risk evaluation and strategy adjustment to maximize rewards.\n",
      "- **enhanced decision-making**: increased data transparency empowered participants to align contributions with team efforts for optimal outcomes.\n"
     ]
    }
   ],
   "source": [
    "print(f\"Some key reasons of participants choosing timebased feedback are: \\n\\n {summarise_text(vote_feedback_explain_timebased)}\")"
   ]
  },
  {
   "cell_type": "code",
   "execution_count": 8,
   "id": "170c675c-aa22-4731-8939-32cea71f0ea4",
   "metadata": {},
   "outputs": [
    {
     "name": "stdout",
     "output_type": "stream",
     "text": [
      "Some key reasons of participants choosing timebased feedback are: \n",
      "\n",
      " based on the responses, here are five key points:\n",
      "\n",
      "- **clarity and transparency:** participants preferred detailed information on token contributions for better decision-making in the experiment.\n",
      "  \n",
      "- **trust and cooperation:** knowing exact contributions affected trust and encouraged or discouraged cooperative behavior among participants.\n",
      "\n",
      "- **decision adjustment:** participants adjusted their contributions based on the specific actions of their teammates each round.\n",
      "\n",
      "- **strategy formulation:** detailed feedback allowed for strategic planning and aligning actions with group behavior to maximize benefits.\n",
      "\n",
      "- **risk management:** knowing precise contribution levels helped participants assess risks and make safer investment decisions.\n"
     ]
    }
   ],
   "source": [
    "print(f\"Some key reasons of participants choosing timebased feedback are: \\n\\n {summarise_text(vote_feedback_explain_timebased)}\")"
   ]
  },
  {
   "cell_type": "markdown",
   "id": "7280f1d4-3f46-4362-9213-cf8bd4369d0c",
   "metadata": {},
   "source": [
    "-------------------------------------------------------------------------------------------------------------------------------------------"
   ]
  },
  {
   "cell_type": "markdown",
   "id": "46cec258-ed53-4a7d-9efd-de562c04ac8d",
   "metadata": {},
   "source": [
    "Here, we can see that the summarised key points from the above five trials are highly similar. Although there are some overlapping points. \n",
    "I manually summarised four key reasons:\n",
    "\n",
    "(1) transparency, clear, visibility\n",
    "\n",
    "(2) precise, detailed, exact contribution, accurate progress\n",
    "\n",
    "(3) real-time feedback\n",
    "\n",
    "(4) cumulative contribution, ongoing contribution"
   ]
  },
  {
   "cell_type": "markdown",
   "id": "99bb3e09-12f6-4308-8df4-fc6b70f0ea69",
   "metadata": {},
   "source": [
    "-------------------------------------------------------------------------------------------------------------------------------------------"
   ]
  },
  {
   "cell_type": "code",
   "execution_count": 9,
   "id": "46c1ca3a-8fca-4e59-ad11-84e23080e5fe",
   "metadata": {},
   "outputs": [
    {
     "name": "stdout",
     "output_type": "stream",
     "text": [
      "I felt like this option had the most chances of maximizing my profit as people wouldn't know exactly how much tokens were contributed in the previous rounds making it more vague.\n",
      "No clear options. Showing the milestone progress is not bad.\n",
      "It is more vague so there is possibility to gain more tokens.\n",
      "There will be less pressure for me to make more contribution since I am not very clear on how much others have contributed\n",
      "I was uncertain to choose among them feedback 1 seemed more anonymous which this whole experiment looked like\n",
      "For the practice it is easier to think about the other contribution\n",
      "because it describes the number that I have reached, and the color indicates something and also the minimum gate in each round.\n",
      "BY NOT KNOWING THE CONTRIBUTION FROM OTHER MEMBERS, IT WOULD NOT AFFECT MY DECISION MAKING PROCESS \n",
      "getting track of team progress\n",
      "To give hope to the other members that someone might be contributing\n",
      "It is interesting.\n",
      "teamates cannot make decision based on contribution last round\n",
      "It's easier for me to understand the total credits contributed to the group.\n",
      "I know what I will not contribute many to the team, so I choose Option2 to hide my contributions. \n",
      "Still air of judgement of how much is invested and benefits those that choice not to invest\n",
      "Option2 gives a better sense about the process so far and the stage we are at, rather than Option 1 which is too precise that makes me want to calculate the average contribution. Then I would compare the average with my efforts and feels like I'm contributing too much or why others so selfish. Actually it did happen when I gave 5 efforts in the first round and found the average is 1. I think I've already send a positive signal that I'm willing to contribute towards the maximum overall welfare, 90. However the results in round 2 is still dispointing. Then I just gave up, in the last 3 round everyone gave 0 efforts.  So the point is the Option 2 cuts the process nicely into 6 stages and make people feel aimful to complete each of them during each round.\n",
      "So I could obscure how much money was being invested and so I could get away with giving out less. As it turns out, everyone else had the same idea.\n",
      "i knew i was going to contribute 0 each round to give me the highest chance of getting the most profit out of it. if i chose feedback option 1, and my other teammates saw that the progress bar was either moving slowly/slower/or none at all, they would start to do the same ;)  providing somewhat of an anonymity allowed me to be super greedy  \n",
      "In Option 2, people would assume higher number of effort units put into joint project. Therefore, to maximize the token profit, the best choice would be to pick Option 2 and not put effort units for yourself at all. \n",
      "Unspesific information makes people guessing and take more risks.\n",
      "people would less likely to know what others contributed\n",
      "I aim for milestones.\n",
      "I was determined to contribute 0 effort units for this part of the experiment regardless of the feedback options, so I would have liked my team to have less information. This is because I assumed potential risk takers may be more unwilling to take risks if they receive extra information about their teammates not contributing. My goal is to maximise my own winnings.\n",
      "If I voted for option 2, then the others would know how much I was contributing and contribute less in subsequent rounds. Because I understood the math behind, I could tell that I would make less if contributed 30 and others contributed 0. So I decided to contribute 30, and make the most even if no one else contributed\n",
      "People can't see each other's exact contributions, thus may be more likely to believe that others have good intentions and willingness to invest, thereby contribute more themselves\n",
      "Prisoner's Dilemma would apply to all people taking the experiment. Hence, it is better if there is ambiguity in the contribution I make so that others can make more and I can profit from that.\n",
      "The other two team members might be confident about the progress as I would choose to invest a large amount in the first round and convince them that we are working together to make total contribution greater. However, I would stop making large contribution from round 2 and keep most of my contribution left.\n",
      "at the robot test, I found robot usually contribute more money in the ground. But I don't think the real human will do as robots. so I want to choose the option I to keep some distance with them. But if they choose feedback 2, maybe they are a risk prefer, so I can make more contribution if they choose 2.\n",
      "We cannot know clearly what the others participants invest for the project\n",
      "like to take risk, it seems much more possibilities to win and loss compared to the second option\n",
      "I think it will be easier to get my teammates to contribute more money since I do not intend to contribute much.\n",
      "Because somehow I think people will have incentive to reach a milestone, while option 2 they could know exactly contributions of others so they might not adjust accordingly\n",
      "My strategy was investing a lot at first, and few then. So, I want to hide my strategy more.\n",
      "For round two I decided to go with the strategy of all in my 30 effort units in the first round, therefore with feedback option 2, it will immediately reach the first two milestone, and motivate my team members to contribute more of their effort unit, as the most optimal solution to this experiment is for everyone to all in. \n",
      "Less easy to determine how much your team members have contributed.\n",
      "It is more fun, and encourages group to invest more, not knowing the exact value.\n",
      "Since all of the members only can see the milestone achievement, it could be a motivation for all of the members to participate more on the project.\n",
      "I thought it would be more likely under option 2 that my team mates would continue puting in a large amount of effort with miles stones. \n",
      "cause there are more uncertain elements\n",
      "I don't want to donate my money.\n",
      "information provided in both scenarios were generally useless to me as it would not have changed my decision throughout the experiment, so I went with the choice that provided less information to people\n",
      "I like that feedback because it makes that the group work together. The other one was easier than the second but I like challenges.\n",
      "Be able to know about other people too clearly is not a good thing.\n",
      "As it diminished accountability and allowed for more anonymous contribution\n",
      "clear\n",
      "I planned to contribute nothing. Option 1 allowed my intentions to stay less obvious\n",
      "the option 1 gives me more opportunities for assuming that people are giving a lot to the joint project, while the second option is too clear and straightforward.\n",
      "clear to know the milestone\n",
      "I earned more from option 1 in the practice\n",
      "I don't want to contribute much so I don't want others to see my contribution.\n",
      "I just want to know the approximate level is ok, not to concrete, it is enough for me to evaluate the partner's intention. Know the concrete will influence my choice and especially if they pay 0 I will sad.\n",
      "it makes it so i can maximise my earnings\n",
      "During practice, I found that by not showing the exact amount of units contributed, people from the team (at least for myself) are more likely to take the risk to invest more, leading to higher total units.\n",
      "nan\n",
      "as i wanted my team members to contribute a lot but not know how much is being contributed by the team. Wanted to keep my 30 tokens and get a bit from them as well.\n",
      "Sense of achievement in seeing progress\n",
      "i preferred knowing milestones, not every single value contributed, because it ramps up the pressure to increase or decrease more/basically influence my decisions that i have made up my mind previously.\n",
      "-\n",
      "As the milestones does not add to my payment, I would like to invest small effort units. I don't want people to find out that I invest small. The feedback 1 only allows other people just to see the milestones.\n",
      "To increase the uncertainty\n",
      "Because I do not want other to guess how much I have probably invested. Option 1 give people larger range to guess how much the other person have invested.\n",
      "I felt that the vagueness of the feedback would allow me to backpack on the contributions of my teammates.\n",
      "Pretty much mirrors how I would enter new situation.\n",
      "I do not want other team members to know clearly on my contribution (which can be derived from the total), as I chose to contribute less to the joint project. \n",
      "I feel like it is easier to disguise our overall contribution and contribute lesser effort units and guide other teammates into contributing more, and obtain a higher score in overall at the end.\n",
      "I liked the idea of having a milestone because it sets a standardized point of agreement that everyone wants to achieve. Hence, it can somewhat weed out those who do not contribute anything at all. Thought, option 2 leads to potentially more earnings, I like to know how much effort personally I should put in the ensure equal success for everyone, but at the same time, see how much everyone else is doing in reaching the milestone.\n",
      "Less pressure\n",
      "Not knowing the contribution of other teams (hence hide how many I voted) is better for me to judge the attitude of other team members\n"
     ]
    }
   ],
   "source": [
    "# print the reasons from participants choosing milestone feedback\n",
    "df_milestone = df[(df['chosen_feedback'] == 'Milestone feedback')]\n",
    "vote_feedback_explain_milestone = '\\n'.join(df_milestone['vote_feedback_explain'].astype(str))\n",
    "print(vote_feedback_explain_milestone)"
   ]
  },
  {
   "cell_type": "markdown",
   "id": "1f9870ea-c9ea-4974-92ee-1b1466598a1b",
   "metadata": {},
   "source": [
    "-------------------------------------------------------------------------------------------------------------------------------------------"
   ]
  },
  {
   "cell_type": "markdown",
   "id": "8ac770b7-8c33-430f-a740-b41e60eca1c0",
   "metadata": {},
   "source": [
    "Here, we ask the model to summarise the key points five times:"
   ]
  },
  {
   "cell_type": "code",
   "execution_count": 10,
   "id": "f2107631-6f6f-4c32-b0e6-ea75efa7206a",
   "metadata": {},
   "outputs": [
    {
     "name": "stdout",
     "output_type": "stream",
     "text": [
      "Some key reasons of participants choosing milestone feedback are: \n",
      "\n",
      " - participants preferred vague feedback to maximize individual profit and limit peer influence.\n",
      "- knowing exact contributions increased perceived pressure and influenced decision-making negatively.\n",
      "- milestones motivated participants but enabled strategic under-contribution.\n",
      "- participants used limited information to manipulate peer perceptions and maximize personal benefit.\n",
      "- ambiguity allowed participants to mask low contributions and exploit others' efforts.\n"
     ]
    }
   ],
   "source": [
    "print(f\"Some key reasons of participants choosing milestone feedback are: \\n\\n {summarise_text(vote_feedback_explain_milestone)}\")"
   ]
  },
  {
   "cell_type": "code",
   "execution_count": 11,
   "id": "7d8f7e94-3cc4-4f7d-a8fc-dfebce1361e9",
   "metadata": {},
   "outputs": [
    {
     "name": "stdout",
     "output_type": "stream",
     "text": [
      "Some key reasons of participants choosing milestone feedback are: \n",
      "\n",
      " - participants preferred vague feedback to hide contributions and increase personal profit.\n",
      "- ambiguity encouraged risk-taking and reduced pressure to contribute more.\n",
      "- milestone visibility motivated contributions and promoted group collaboration.\n",
      "- lack of detailed information prevented strategic manipulation based on others' contributions.\n",
      "- participants aimed to maximize earnings by contributing less while assuming others would contribute more.\n"
     ]
    }
   ],
   "source": [
    "print(f\"Some key reasons of participants choosing milestone feedback are: \\n\\n {summarise_text(vote_feedback_explain_milestone)}\")"
   ]
  },
  {
   "cell_type": "code",
   "execution_count": 12,
   "id": "bbbce826-77bf-45ba-94fe-62c672e868f3",
   "metadata": {},
   "outputs": [
    {
     "name": "stdout",
     "output_type": "stream",
     "text": [
      "Some key reasons of participants choosing milestone feedback are: \n",
      "\n",
      " - ambiguity in contributions motivates participants to risk more and aim for milestones.\n",
      "- less transparency allows individuals to contribute less while expecting others to contribute more.\n",
      "- milestone-based feedback provides a sense of progress without revealing specific contributions.\n",
      "- participants prefer strategies that maximize personal profit, often by minimizing their own effort.\n",
      "- anonymity in contributions reduces pressure and influences decision-making favorably.\n"
     ]
    }
   ],
   "source": [
    "print(f\"Some key reasons of participants choosing milestone feedback are: \\n\\n {summarise_text(vote_feedback_explain_milestone)}\")"
   ]
  },
  {
   "cell_type": "code",
   "execution_count": 13,
   "id": "fb202ff5-e241-40ff-b619-d6515b8c89e7",
   "metadata": {},
   "outputs": [
    {
     "name": "stdout",
     "output_type": "stream",
     "text": [
      "Some key reasons of participants choosing milestone feedback are: \n",
      "\n",
      " - many participants preferred vague feedback, believing it allowed for strategic profit maximization.\n",
      "- the ambiguity in contributions reduced pressure and influenced participants to contribute less.\n",
      "- participants felt that milestone indicators could motivate team investment without revealing exact contributions.\n",
      "- the anonymity was used as a tactic for some to minimize personal contribution while maximizing team effort.\n",
      "- understanding others' contributions clearly was seen as a disadvantage or pressure by several participants.\n"
     ]
    }
   ],
   "source": [
    "print(f\"Some key reasons of participants choosing milestone feedback are: \\n\\n {summarise_text(vote_feedback_explain_milestone)}\")"
   ]
  },
  {
   "cell_type": "code",
   "execution_count": 14,
   "id": "5e6d8ede-445f-4ae1-ab5c-17bd17b4fc77",
   "metadata": {},
   "outputs": [
    {
     "name": "stdout",
     "output_type": "stream",
     "text": [
      "Some key reasons of participants choosing milestone feedback are: \n",
      "\n",
      " - participants preferred ambiguity, believing it increased their chances of maximizing profit and reducing pressure.\n",
      "- option 2 was favored for obscuring exact contributions, leading participants to contribute less themselves.\n",
      "- milestones were motivational, encouraging some participants to invest more collectively.\n",
      "- anonymity allowed participants to avoid judgement and manipulate others into contributing more.\n",
      "- vague information led to more risk-taking, mimicking a prisoner's dilemma scenario.\n"
     ]
    }
   ],
   "source": [
    "print(f\"Some key reasons of participants choosing milestone feedback are: \\n\\n {summarise_text(vote_feedback_explain_milestone)}\")"
   ]
  },
  {
   "cell_type": "markdown",
   "id": "4020e8e6-d84c-468c-adb5-1eb4d8d604f7",
   "metadata": {},
   "source": [
    "-------------------------------------------------------------------------------------------------------------------------------------------"
   ]
  },
  {
   "cell_type": "markdown",
   "id": "97d1eb0e-eb79-4d33-8216-f5f99058fcc0",
   "metadata": {},
   "source": [
    "Here, we can see that the summarised key points from the above five trials are highly similar. Although there are some overlapping points. \n",
    "I manually summarised two key reasons for choosing milestone feedback:\n",
    "\n",
    "(1) ambiguity, vagueness, no exact contribution, lack of transparency, unclear\n",
    "\n",
    "(2) anonymity, conceal personal contribution, without disclosing details"
   ]
  },
  {
   "cell_type": "markdown",
   "id": "ecf1c990-2e69-4c29-a664-d81bc7a50002",
   "metadata": {},
   "source": [
    "-------------------------------------------------------------------------------------------------------------------------------------------"
   ]
  }
 ],
 "metadata": {
  "kernelspec": {
   "display_name": "Python 3 (ipykernel)",
   "language": "python",
   "name": "python3"
  },
  "language_info": {
   "codemirror_mode": {
    "name": "ipython",
    "version": 3
   },
   "file_extension": ".py",
   "mimetype": "text/x-python",
   "name": "python",
   "nbconvert_exporter": "python",
   "pygments_lexer": "ipython3",
   "version": "3.11.10"
  }
 },
 "nbformat": 4,
 "nbformat_minor": 5
}
